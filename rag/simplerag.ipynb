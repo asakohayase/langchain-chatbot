{
 "cells": [
  {
   "cell_type": "code",
   "execution_count": 1,
   "metadata": {},
   "outputs": [
    {
     "data": {
      "text/plain": [
       "[Document(page_content='I am honored to be with you today at your commencement from one of the finest universities in the world. I never graduated from college. Truth be told, this is the closest I’ve ever gotten to a college graduation. Today I want to tell you three stories from my life. That’s it. No big deal. Just three stories.\\n\\nThe first story is about connecting the dots.\\n\\nI dropped out of Reed College after the first 6 months, but then stayed around as a drop-in for another 18 months or so before I really quit. So why did I drop out?\\n\\nIt started before I was born. My biological mother was a young, unwed college graduate student, and she decided to put me up for adoption. She felt very strongly that I should be adopted by college graduates, so everything was all set for me to be adopted at birth by a lawyer and his wife. Except that when I popped out they decided at the last minute that they really wanted a girl. So my parents, who were on a waiting list, got a call in the middle of the night asking: “We have an unexpected baby boy; do you want him?” They said: “Of course.” My biological mother later found out that my mother had never graduated from college and that my father had never graduated from high school. She refused to sign the final adoption papers. She only relented a few months later when my parents promised that I would someday go to college.\\n\\nAnd 17 years later I did go to college. But I naively chose a college that was almost as expensive as Stanford, and all of my working-class parents’ savings were being spent on my college tuition. After six months, I couldn’t see the value in it. I had no idea what I wanted to do with my life and no idea how college was going to help me figure it out. And here I was spending all of the money my parents had saved their entire life. So I decided to drop out and trust that it would all work out OK. It was pretty scary at the time, but looking back it was one of the best decisions I ever made. The minute I dropped out I could stop taking the required classes that didn’t interest me, and begin dropping in on the ones that looked interesting.\\n\\nIt wasn’t all romantic. I didn’t have a dorm room, so I slept on the floor in friends’ rooms, I returned Coke bottles for the 5¢ deposits to buy food with, and I would walk the 7 miles across town every Sunday night to get one good meal a week at the Hare Krishna temple. I loved it. And much of what I stumbled into by following my curiosity and intuition turned out to be priceless later on. Let me give you one example:\\n\\nReed College at that time offered perhaps the best calligraphy instruction in the country. Throughout the campus every poster, every label on every drawer, was beautifully hand calligraphed. Because I had dropped out and didn’t have to take the normal classes, I decided to take a calligraphy class to learn how to do this. I learned about serif and sans serif typefaces, about varying the amount of space between different letter combinations, about what makes great typography great. It was beautiful, historical, artistically subtle in a way that science can’t capture, and I found it fascinating.\\n\\nNone of this had even a hope of any practical application in my life. But 10 years later, when we were designing the first Macintosh computer, it all came back to me. And we designed it all into the Mac. It was the first computer with beautiful typography. If I had never dropped in on that single course in college, the Mac would have never had multiple typefaces or proportionally spaced fonts. And since Windows just copied the Mac, it’s likely that no personal computer would have them. If I had never dropped out, I would have never dropped in on this calligraphy class, and personal computers might not have the wonderful typography that they do. Of course it was impossible to connect the dots looking forward when I was in college. But it was very, very clear looking backward 10 years later.\\n\\nAgain, you can’t connect the dots looking forward; you can only connect them looking backward. So you have to trust that the dots will somehow connect in your future. You have to trust in something — your gut, destiny, life, karma, whatever. This approach has never let me down, and it has made all the difference in my life.\\n\\nMy second story is about love and loss.\\n\\nI was lucky — I found what I loved to do early in life. Woz and I started Apple in my parents’ garage when I was 20. We worked hard, and in 10 years Apple had grown from just the two of us in a garage into a $2 billion company with over 4,000 employees. We had just released our finest creation — the Macintosh — a year earlier, and I had just turned 30. And then I got fired. How can you get fired from a company you started? Well, as Apple grew we hired someone who I thought was very talented to run the company with me, and for the first year or so things went well. But then our visions of the future began to diverge and eventually we had a falling out. When we did, our Board of Directors sided with him. So at 30 I was out. And very publicly out. What had been the focus of my entire adult life was gone, and it was devastating.\\n\\nI really didn’t know what to do for a few months. I felt that I had let the previous generation of entrepreneurs down — that I had dropped the baton as it was being passed to me. I met with David Packard and Bob Noyce and tried to apologize for screwing up so badly. I was a very public failure, and I even thought about running away from the valley. But something slowly began to dawn on me — I still loved what I did. The turn of events at Apple had not changed that one bit. I had been rejected, but I was still in love. And so I decided to start over.\\n\\nI didn’t see it then, but it turned out that getting fired from Apple was the best thing that could have ever happened to me. The heaviness of being successful was replaced by the lightness of being a beginner again, less sure about everything. It freed me to enter one of the most creative periods of my life.\\n\\nDuring the next five years, I started a company named NeXT, another company named Pixar, and fell in love with an amazing woman who would become my wife. Pixar went on to create the world’s first computer animated feature film, Toy Story, and is now the most successful animation studio in the world. In a remarkable turn of events, Apple bought NeXT, I returned to Apple, and the technology we developed at NeXT is at the heart of Apple’s current renaissance. And Laurene and I have a wonderful family together.\\n\\nI’m pretty sure none of this would have happened if I hadn’t been fired from Apple. It was awful tasting medicine, but I guess the patient needed it. Sometimes life hits you in the head with a brick. Don’t lose faith. I’m convinced that the only thing that kept me going was that I loved what I did. You’ve got to find what you love. And that is as true for your work as it is for your lovers. Your work is going to fill a large part of your life, and the only way to be truly satisfied is to do what you believe is great work. And the only way to do great work is to love what you do. If you haven’t found it yet, keep looking. Don’t settle. As with all matters of the heart, you’ll know when you find it. And, like any great relationship, it just gets better and better as the years roll on. So keep looking until you find it. Don’t settle.\\n\\nMy third story is about death.\\n\\nWhen I was 17, I read a quote that went something like: “If you live each day as if it was your last, someday you’ll most certainly be right.” It made an impression on me, and since then, for the past 33 years, I have looked in the mirror every morning and asked myself: “If today were the last day of my life, would I want to do what I am about to do today?” And whenever the answer has been “No” for too many days in a row, I know I need to change something.\\n\\nRemembering that I’ll be dead soon is the most important tool I’ve ever encountered to help me make the big choices in life. Because almost everything — all external expectations, all pride, all fear of embarrassment or failure — these things just fall away in the face of death, leaving only what is truly important. Remembering that you are going to die is the best way I know to avoid the trap of thinking you have something to lose. You are already naked. There is no reason not to follow your heart.\\n\\nAbout a year ago I was diagnosed with cancer. I had a scan at 7:30 in the morning, and it clearly showed a tumor on my pancreas. I didn’t even know what a pancreas was. The doctors told me this was almost certainly a type of cancer that is incurable, and that I should expect to live no longer than three to six months. My doctor advised me to go home and get my affairs in order, which is doctor’s code for prepare to die. It means to try to tell your kids everything you thought you’d have the next 10 years to tell them in just a few months. It means to make sure everything is buttoned up so that it will be as easy as possible for your family. It means to say your goodbyes.\\n\\nI lived with that diagnosis all day. Later that evening I had a biopsy, where they stuck an endoscope down my throat, through my stomach and into my intestines, put a needle into my pancreas and got a few cells from the tumor. I was sedated, but my wife, who was there, told me that when they viewed the cells under a microscope the doctors started crying because it turned out to be a very rare form of pancreatic cancer that is curable with surgery. I had the surgery and I’m fine now.\\n\\nThis was the closest I’ve been to facing death, and I hope it’s the closest I get for a few more decades. Having lived through it, I can now say this to you with a bit more certainty than when death was a useful but purely intellectual concept:\\n\\nNo one wants to die. Even people who want to go to heaven don’t want to die to get there. And yet death is the destination we all share. No one has ever escaped it. And that is as it should be, because Death is very likely the single best invention of Life. It is Life’s change agent. It clears out the old to make way for the new. Right now the new is you, but someday not too long from now, you will gradually become the old and be cleared away. Sorry to be so dramatic, but it is quite true.\\n\\nYour time is limited, so don’t waste it living someone else’s life. Don’t be trapped by dogma — which is living with the results of other people’s thinking. Don’t let the noise of others’ opinions drown out your own inner voice. And most important, have the courage to follow your heart and intuition. They somehow already know what you truly want to become. Everything else is secondary.\\n\\nWhen I was young, there was an amazing publication called The Whole Earth Catalog, which was one of the bibles of my generation. It was created by a fellow named Stewart Brand not far from here in Menlo Park, and he brought it to life with his poetic touch. This was in the late 1960s, before personal computers and desktop publishing, so it was all made with typewriters, scissors and Polaroid cameras. It was sort of like Google in paperback form, 35 years before Google came along: It was idealistic, and overflowing with neat tools and great notions.\\n\\nStewart and his team put out several issues of The Whole Earth Catalog, and then when it had run its course, they put out a final issue. It was the mid-1970s, and I was your age. On the back cover of their final issue was a photograph of an early morning country road, the kind you might find yourself hitchhiking on if you were so adventurous. Beneath it were the words: “Stay Hungry. Stay Foolish.” It was their farewell message as they signed off. Stay Hungry. Stay Foolish. And I have always wished that for myself. And now, as you graduate to begin anew, I wish that for you.\\n\\nStay Hungry. Stay Foolish.\\n\\nThank you all very much.', metadata={'source': 'speech.txt'})]"
      ]
     },
     "execution_count": 1,
     "metadata": {},
     "output_type": "execute_result"
    }
   ],
   "source": [
    "from langchain_community.document_loaders import TextLoader\n",
    "loader=TextLoader(\"speech.txt\")\n",
    "\n",
    "# Convert it to text document\n",
    "text_documents=loader.load()\n",
    "text_documents"
   ]
  },
  {
   "cell_type": "code",
   "execution_count": 2,
   "metadata": {},
   "outputs": [],
   "source": [
    "import os\n",
    "from dotenv import load_dotenv\n",
    "load_dotenv()\n",
    "\n",
    "os.environ[\"OPENAI_API_KEY\"] =  os.getenv(\"OPENAI_API_KEY\")\n"
   ]
  },
  {
   "cell_type": "code",
   "execution_count": 10,
   "metadata": {},
   "outputs": [
    {
     "data": {
      "text/plain": [
       "[Document(page_content='LangChain: Introduction and Getting Started | PineconeAnnouncementPinecone serverless on AWS is now generally availableLearn moreProductSolutionsPricingResourcesCompanyLog InSign Up FreeLangChain: Introduction and Getting StartedJump to section LangChainOur First Prompt TemplatesHugging Face Hub LLMOpenAI LLMsReferencesLarge Language Models (LLMs) entered the world stage with the release of OpenAI’s GPT-3 in 2020 [1]. Since then, they’ve enjoyed a steady growth in popularity.That is until late 2022. Interest in LLMs and the broader discipline of generative AI has skyrocketed. The reasons for this are likely the continuous upward momentum of significant advances in LLMs.We saw the dramatic news about Google’s “sentient” LaMDA chatbot. The first high-performance and open-source LLM called BLOOM was released. OpenAI released their next-generation text embedding model and the next generation of “GPT-3.5” models.After all these giant leaps forward in the LLM space, OpenAI released ChatGPT — thrusting LLMs into the spotlight.LangChain appeared around the same time. Its creator, Harrison Chase, made the first commit in late October 2022. Leaving a short couple of months of development before getting caught in the LLM wave.Despite being early days for the library, it is already packed full of incredible features for building amazing tools around the core of LLMs. In this article, we’ll introduce the library and start with the most straightforward component offered by LangChain — LLMs.LangChainAt its core, LangChain is a framework built around LLMs. We can use it for chatbots, Generative\\xa0Question-Answering (GQA), summarization, and much more.The core idea of the library is that we can “chain” together different components to create more advanced use cases around LLMs. Chains may consist of multiple components from several modules:Prompt templates: Prompt templates are templates for different types of prompts. Like “chatbot” style templates, ELI5 question-answering, etcLLMs: Large language models like GPT-3, BLOOM, etcAgents: Agents use LLMs to decide what actions should be taken. Tools like web search or calculators can be used, and all are packaged into a logical loop of operations.Memory: Short-term memory, long-term memory.We will dive into each of these in much more detail in upcoming chapters of the LangChain handbook.For now, we’ll start with the basics behind prompt templates and LLMs. We’ll also explore two LLM options available from the library, using models from Hugging Face Hub or OpenAI.Start using Pinecone for freePinecone is the developer-favorite vector database that\\'s fast and easy to use at any scale.SubscribeOur First Prompt TemplatesPrompts being input to LLMs are often structured in different ways so that we can get different results. For Q&A, we could take a user’s question and reformat it for different Q&A styles, like conventional Q&A, a bullet list of answers, or even a summary of problems relevant to the given question.Creating Prompts in LangChainLet’s put together a simple question-answering prompt template. We first need to install the langchain library.!pip install langchainFollow along with the code via\\xa0the walkthrough!From here, we import the PromptTemplate class and initialize a template like so:from langchain import PromptTemplate\\n\\ntemplate = \"\"\"Question: {question}\\n\\nAnswer: \"\"\"\\nprompt = PromptTemplate(\\n        template=template,\\n    input_variables=[\\'question\\']\\n)\\n\\n# user question\\nquestion = \"Which NFL team won the Super Bowl in the 2010 season?\"When using these prompt template with the given question we will get:Question: Which NFL team won the Super Bowl in the 2010 season? Answer:For now, that’s all we need. We’ll use the same prompt template across both Hugging Face Hub and OpenAI LLM generations.Hugging Face Hub LLMThe Hugging Face Hub endpoint in LangChain connects to the Hugging Face Hub and runs the models via their free inference endpoints. We need a Hugging Face account and API key to use these endpoints.Once you have an API key, we add it to the HUGGINGFACEHUB_API_TOKEN environment variable. We can do this with Python like so:import os\\n\\nos.environ[\\'HUGGINGFACEHUB_API_TOKEN\\'] = \\'HF_API_KEY\\'Next, we must install the huggingface_hub library via Pip.!pip install huggingface_hubNow we can generate text using a Hub model. We’ll use google/flan-t5-x1.The default Hugging Face Hub inference APIs do not use specialized hardware and, therefore, can be slow. They are also not suitable for running larger models like\\xa0bigscience/bloom-560m\\xa0or\\xa0google/flan-t5-xxl\\xa0(note\\xa0xxl\\xa0vs.\\xa0xl).In[3]:from langchain import HuggingFaceHub, LLMChain\\n\\n# initialize Hub LLM\\nhub_llm = HuggingFaceHub(\\n        repo_id=\\'google/flan-t5-xl\\',\\n    model_kwargs={\\'temperature\\':1e-10}\\n)\\n\\n# create prompt template > LLM chain\\nllm_chain = LLMChain(\\n    prompt=prompt,\\n    llm=hub_llm\\n)\\n\\n# ask the user question about NFL 2010\\nprint(llm_chain.run(question))Out[3]:green bay packers\\nFor this question, we get the correct answer of \"green bay packers\".Asking Multiple QuestionsIf we’d like to ask multiple questions, we can try two approaches:Iterate through all questions using the generate method, answering them one at a time.Place all questions into a single prompt for the LLM; this will only work for more advanced LLMs.Starting with option (1), let’s see how to use the generate method:In[4]:qs = [\\n    {\\'question\\': \"Which NFL team won the Super Bowl in the 2010 season?\"},\\n    {\\'question\\': \"If I am 6 ft 4 inches, how tall am I in centimeters?\"},\\n    {\\'question\\': \"Who was the 12th person on the moon?\"},\\n    {\\'question\\': \"How many eyes does a blade of grass have?\"}\\n]\\nres = llm_chain.generate(qs)\\nresOut[4]:LLMResult(generations=[[Generation(text=\\'green bay packers\\', generation_info=None)], [Generation(text=\\'184\\', generation_info=None)], [Generation(text=\\'john glenn\\', generation_info=None)], [Generation(text=\\'one\\', generation_info=None)]], llm_output=None)Here we get bad results except for the first question. This is simply a limitation of the LLM being used.If the model cannot answer individual questions accurately, grouping all queries into a single prompt is unlikely to work. However, for the sake of experimentation, let’s try it.In[6]:multi_template = \"\"\"Answer the following questions one at a time.\\n\\nQuestions:\\n{questions}\\n\\nAnswers:\\n\"\"\"\\nlong_prompt = PromptTemplate(template=multi_template, input_variables=[\"questions\"])\\n\\nllm_chain = LLMChain(\\n    prompt=long_prompt,\\n    llm=flan_t5\\n)\\n\\nqs_str = (\\n    \"Which NFL team won the Super Bowl in the 2010 season?\\\\n\" +\\n    \"If I am 6 ft 4 inches, how tall am I in centimeters?\\\\n\" +\\n    \"Who was the 12th person on the moon?\" +\\n    \"How many eyes does a blade of grass have?\"\\n)\\n\\nprint(llm_chain.run(qs_str))Out[6]:If I am 6 ft 4 inches, how tall am I in centimeters\\nAs expected, the results are not helpful. We’ll see later that more powerful LLMs can do this.OpenAI LLMsThe OpenAI endpoints in LangChain connect to OpenAI directly or via Azure. We need an OpenAI account and API key to use these endpoints.Once you have an API key, we add it to the OPENAI_API_TOKEN environment variable. We can do this with Python like so:import os\\n\\nos.environ[\\'OPENAI_API_TOKEN\\'] = \\'OPENAI_API_KEY\\'Next, we must install the openai library via Pip.!pip install openaiNow we can generate text using OpenAI’s GPT-3 generation (or completion) models. We’ll use text-davinci-003.from langchain.llms import OpenAI\\n\\ndavinci = OpenAI(model_name=\\'text-davinci-003\\')Alternatively, if you’re using OpenAI via Azure, you can do:from langchain.llms import AzureOpenAI\\n\\nllm = AzureOpenAI(\\n    deployment_name=\"your-azure-deployment\", \\n    model_name=\"text-davinci-003\"\\n)We’ll use the same simple question-answer prompt template as before with the Hugging Face example. The only change is that we now pass our OpenAI LLM davinci:In[15]:llm_chain = LLMChain(\\n    prompt=prompt,\\n    llm=davinci\\n)\\n\\nprint(llm_chain.run(question))Out[15]: The Green Bay Packers won the Super Bowl in the 2010 season.\\nAs expected, we’re getting the correct answer. We can do the same for multiple questions using generate:In[16]:qs = [\\n    {\\'question\\': \"Which NFL team won the Super Bowl in the 2010 season?\"},\\n    {\\'question\\': \"If I am 6 ft 4 inches, how tall am I in centimeters?\"},\\n    {\\'question\\': \"Who was the 12th person on the moon?\"},\\n    {\\'question\\': \"How many eyes does a blade of grass have?\"}\\n]\\nllm_chain.generate(qs)Out[16]:LLMResult(generations=[[Generation(text=\\' The Green Bay Packers won the Super Bowl in the 2010 season.\\', generation_info={\\'finish_reason\\': \\'stop\\', \\'logprobs\\': None})], [Generation(text=\\' 193.04 centimeters\\', generation_info={\\'finish_reason\\': \\'stop\\', \\'logprobs\\': None})], [Generation(text=\\' Charles Duke was the 12th person on the moon. He was part of the Apollo 16 mission in 1972.\\', generation_info={\\'finish_reason\\': \\'stop\\', \\'logprobs\\': None})], [Generation(text=\\' A blade of grass does not have any eyes.\\', generation_info={\\'finish_reason\\': \\'stop\\', \\'logprobs\\': None})]], llm_output={\\'token_usage\\': {\\'total_tokens\\': 124, \\'prompt_tokens\\': 75, \\'completion_tokens\\': 49}})Most of our results are correct or have a degree of truth. The model undoubtedly functions better than the google/flan-t5-xl model. As before, let’s try feeding all questions into the model at once.In[17]:llm_chain = LLMChain(\\n    prompt=long_prompt,\\n    llm=davinci\\n)\\n\\nqs_str = (\\n    \"Which NFL team won the Super Bowl in the 2010 season?\\\\n\" +\\n    \"If I am 6 ft 4 inches, how tall am I in centimeters?\\\\n\" +\\n    \"Who was the 12th person on the moon?\" +\\n    \"How many eyes does a blade of grass have?\"\\n)\\n\\nprint(llm_chain.run(qs_str))Out[17]:The New Orleans Saints won the Super Bowl in the 2010 season.\\n6 ft 4 inches is 193 centimeters.\\nThe 12th person on the moon was Harrison Schmitt.\\nA blade of grass does not have eyes.\\nAs we keep rerunning the query, the model will occasionally make errors, but at other times manage to get all answers correct.That’s it for our introduction to LangChain — a library that allows us to build more advanced apps around LLMs like OpenAI’s GPT-3 models or the open-source alternatives available via Hugging Face.As mentioned, LangChain can do much more than we’ve demonstrated here. We’ll be covering these other features in upcoming articles.References[1] GPT-3 Archived Repo (2020), OpenAI GitHubShare:  NextPrompt Templates and the Art of PromptsLangChain AI HandbookChaptersAn Introduction to LangChainLangChainOur First Prompt TemplatesHugging Face Hub LLMOpenAI LLMsReferencesPrompt Templates and the Art of PromptsBuilding Composable Pipelines with Chains Conversational MemoryRetrieval AugmentationAI AgentsCustom ToolsAgents With Long-Term Memory Streaming in LangChain RAG Multi-Query LangChain Expression LanguageProductOverviewDocumentationIntegrationsTrust and SecuritySolutionsCustomersRAGSemantic SearchMulti-Modal SearchCandidate GenerationClassificationResourcesLearning CenterCommunityPinecone BlogSupport CenterSystem StatusWhat is a Vector Database?What is Retrieval Augmented Generation (RAG)?CompanyAboutPartnersCareersNewsroomContactLegalCustomer TermsWebsite TermsPrivacyCookiesCookie Preferences© Pinecone Systems, Inc. | San Francisco, CAPinecone is a registered trademark of Pinecone Systems, Inc.', metadata={'source': 'https://www.pinecone.io/learn/series/langchain/langchain-intro/', 'title': 'LangChain: Introduction and Getting Started | Pinecone', 'language': 'en'})]"
      ]
     },
     "execution_count": 10,
     "metadata": {},
     "output_type": "execute_result"
    }
   ],
   "source": [
    "# web based loader\n",
    "from langchain_community.document_loaders import WebBaseLoader\n",
    "import bs4\n",
    "\n",
    "# load,chunk and index the content of the html page\n",
    "# you could also target specific classes: ex. class_=(\"post-title\",\"post-content\",\"post-header\")\n",
    "\n",
    "loader=WebBaseLoader(web_paths=(\"https://www.pinecone.io/learn/series/langchain/langchain-intro/\",),\n",
    "                     bs_kwargs=dict(parse_only=bs4.SoupStrainer()))\n",
    "\n",
    "text_documents=loader.load()\n",
    "text_documents"
   ]
  },
  {
   "cell_type": "code",
   "execution_count": 4,
   "metadata": {},
   "outputs": [],
   "source": [
    "\n",
    "from langchain_community.document_loaders import PyPDFLoader\n",
    "loader=PyPDFLoader(\"hollywood.pdf\")\n",
    "docs=loader.load()\n"
   ]
  },
  {
   "cell_type": "code",
   "execution_count": 5,
   "metadata": {},
   "outputs": [
    {
     "data": {
      "text/plain": [
       "[Document(page_content='Acknowledgements\\nThis report was authored by Dr. Ana-Christina Ramón, Michael Tran, and Dr. Darnell \\nHunt. Michael Tran, Kali Tambree, Jade Abston, Jiyoung Kim, and Nico Garcia \\ncontributed to data collection for analyses. \\nFinancial support from 2023 was provided by The Division of Social Sciences at \\nUCLA; Leadership Sponsors, Netflix, the Golden Globe Foundation, and the Latino \\nFilm Institute; and Annual Sponsors, The Walt Disney Company and Hulu. \\nLeadership Sponsors: \\nPhoto Credits: andresr/Getty Images (top, front cover); igoriss/Getty \\nImages (bottom, front cover); Korosi Francois-Zoltan/Shutterstock (p. 12); \\nAndrey_Popov/Shutterstock (p. 18); 3DMart/Shutterstock (p. 22); and Busà \\nPhotography/Getty Images (p. 51).\\n Annual Sponsors:', metadata={'source': 'hollywood.pdf', 'page': 1}),\n",
       " Document(page_content='Table of Contents\\nStudy Highlights  ............................................................................................................ 2\\nIntroduction  ................................................................................................................... 6\\nHollywood Landscape  .................................................................................................. 10\\nLeads  ............................................................................................................................. 12\\nOverall Cast Diversity  ................................................................................................... 18\\nDirectors  ...................................................................................................................... 22\\nWriters  ......................................................................................................................... 28', metadata={'source': 'hollywood.pdf', 'page': 2}),\n",
       " Document(page_content='Writers  ......................................................................................................................... 28\\nThe Bottom Line  ........................................................................................................... 34\\nConclusion  ................................................................................................................... 50\\nEndnotes  ...................................................................................................................... 54\\nAbout the Authors  ....................................................................................................... 57', metadata={'source': 'hollywood.pdf', 'page': 2}),\n",
       " Document(page_content='2\\nHOLLYWOOD DIVERSITY REPORT 2024\\nThe following highlights emerge from this year’s analysis: \\nBlack, Indigenous, and People of Color (BIPOC).  The BIPOC share of the \\nU.S. population is growing by nearly half a percent each year. Constituting 43.6 \\npercent of the U.S. population in 2023,1 BIPOC will become the majority within \\na couple of decades. Since 2022, BIPOC posted gains relative to their White \\ncounterparts in all key Hollywood employment arenas examined in the theatrical \\nfilm sector (i.e., theatrical film leads, directors, writers, and total actors2). \\nDespite these gains, BIPOC remained underrepresented on every major industry \\nemployment front in 2023:\\n• Less than 2 to 1 among theatrical film leads (29.2 percent)\\n• Less than 2 to 1 among theatrical film directors (22.9 percent)\\n• 2 to 1 among theatrical film writers (22.2 percent)\\n• Less than proportionate representation among total theatrical film actors (40.4 \\npercent)STUDY HIGHLIGHTS', metadata={'source': 'hollywood.pdf', 'page': 3}),\n",
       " Document(page_content='• 2 to 1 among theatrical film writers (22.2 percent)\\n• Less than proportionate representation among total theatrical film actors (40.4 \\npercent)STUDY HIGHLIGHTS\\nU.S. Population Shares, White and Minority, 1960-2050\\nSource: U.S. Census, 2023100%\\n80%\\n60%\\n40%\\n20%\\n0% 1960 2023 2050 White\\nBIPOC85%\\n56.4%53%\\n47%43.6%\\n15%', metadata={'source': 'hollywood.pdf', 'page': 3})]"
      ]
     },
     "execution_count": 5,
     "metadata": {},
     "output_type": "execute_result"
    }
   ],
   "source": [
    "from langchain.text_splitter import RecursiveCharacterTextSplitter\n",
    "text_splitter=RecursiveCharacterTextSplitter(chunk_size=1000,chunk_overlap=200)\n",
    "documents=text_splitter.split_documents(docs)\n",
    "documents[:5]"
   ]
  },
  {
   "cell_type": "code",
   "execution_count": 6,
   "metadata": {},
   "outputs": [],
   "source": [
    "# vector embedding and vector store\n",
    "from langchain_community.embeddings import OpenAIEmbeddings\n",
    "from langchain_community.vectorstores import Chroma\n",
    "db=Chroma.from_documents(documents[:5],OpenAIEmbeddings())\n"
   ]
  },
  {
   "cell_type": "code",
   "execution_count": 8,
   "metadata": {},
   "outputs": [
    {
     "data": {
      "text/plain": [
       "'• 2 to 1 among theatrical film writers (22.2 percent)\\n• Less than proportionate representation among total theatrical film actors (40.4 \\npercent)STUDY HIGHLIGHTS\\nU.S. Population Shares, White and Minority, 1960-2050\\nSource: U.S. Census, 2023100%\\n80%\\n60%\\n40%\\n20%\\n0% 1960 2023 2050 White\\nBIPOC85%\\n56.4%53%\\n47%43.6%\\n15%'"
      ]
     },
     "execution_count": 8,
     "metadata": {},
     "output_type": "execute_result"
    }
   ],
   "source": [
    "# vector database\n",
    "query=\"What is minority trend in theatrical film?\"\n",
    "result=db.similarity_search(query)\n",
    "result[0].page_content"
   ]
  }
 ],
 "metadata": {
  "kernelspec": {
   "display_name": "venv",
   "language": "python",
   "name": "python3"
  },
  "language_info": {
   "codemirror_mode": {
    "name": "ipython",
    "version": 3
   },
   "file_extension": ".py",
   "mimetype": "text/x-python",
   "name": "python",
   "nbconvert_exporter": "python",
   "pygments_lexer": "ipython3",
   "version": "3.12.3"
  }
 },
 "nbformat": 4,
 "nbformat_minor": 2
}
